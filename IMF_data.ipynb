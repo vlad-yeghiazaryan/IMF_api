{
 "cells": [
  {
   "cell_type": "code",
   "execution_count": 1,
   "metadata": {
    "id": "9_fVIJEruC0Z"
   },
   "outputs": [],
   "source": [
    "import pandas as pd\n",
    "import matplotlib.pyplot as plt\n",
    "from IMF_api import IMF_API"
   ]
  },
  {
   "cell_type": "code",
   "execution_count": 2,
   "metadata": {
    "id": "KfhjklOTDXP_"
   },
   "outputs": [],
   "source": [
    "IFS_api = IMF_API('IFS')\n",
    "countries = ['Russian Federation', 'United Kingdom', 'Canada']"
   ]
  },
  {
   "cell_type": "code",
   "execution_count": 3,
   "metadata": {},
   "outputs": [
    {
     "name": "stdout",
     "output_type": "stream",
     "text": [
      "RU\n",
      "GB\n",
      "CA\n"
     ]
    }
   ],
   "source": [
    "for country in countries:\n",
    "    print(IFS_api.get_country_code(country))"
   ]
  },
  {
   "cell_type": "code",
   "execution_count": 4,
   "metadata": {
    "colab": {
     "base_uri": "https://localhost:8080/",
     "height": 457
    },
    "id": "iRKOvI9INeVx",
    "outputId": "4467f709-2c4d-4260-eaf3-3575f39e2d18"
   },
   "outputs": [
    {
     "data": {
      "text/html": [
       "<div>\n",
       "<style scoped>\n",
       "    .dataframe tbody tr th:only-of-type {\n",
       "        vertical-align: middle;\n",
       "    }\n",
       "\n",
       "    .dataframe tbody tr th {\n",
       "        vertical-align: top;\n",
       "    }\n",
       "\n",
       "    .dataframe thead th {\n",
       "        text-align: right;\n",
       "    }\n",
       "</style>\n",
       "<table border=\"1\" class=\"dataframe\">\n",
       "  <thead>\n",
       "    <tr style=\"text-align: right;\">\n",
       "      <th></th>\n",
       "      <th>@value</th>\n",
       "      <th>#text</th>\n",
       "    </tr>\n",
       "  </thead>\n",
       "  <tbody>\n",
       "    <tr>\n",
       "      <th>0</th>\n",
       "      <td>FS_ODX_CET1_FSCET_XDC</td>\n",
       "      <td>Monetary and Financial Accounts, Financial Sou...</td>\n",
       "    </tr>\n",
       "    <tr>\n",
       "      <th>1</th>\n",
       "      <td>FS_ODX_ARW_FSCET_XDC</td>\n",
       "      <td>Monetary and Financial Accounts, Financial Sou...</td>\n",
       "    </tr>\n",
       "    <tr>\n",
       "      <th>2</th>\n",
       "      <td>FS_ODX_ARW_FSKRC_XDC</td>\n",
       "      <td>Monetary and Financial Accounts, Financial Sou...</td>\n",
       "    </tr>\n",
       "    <tr>\n",
       "      <th>3</th>\n",
       "      <td>FS_ODX_ARW_FSKRTC_XDC</td>\n",
       "      <td>Monetary and Financial Accounts, Financial Sou...</td>\n",
       "    </tr>\n",
       "    <tr>\n",
       "      <th>4</th>\n",
       "      <td>FS_ODX_CT1_FSKRTC_XDC</td>\n",
       "      <td>Monetary and Financial Accounts, Financial Sou...</td>\n",
       "    </tr>\n",
       "    <tr>\n",
       "      <th>5</th>\n",
       "      <td>FS_ODX_CRT_FSKRC_XDC</td>\n",
       "      <td>Monetary and Financial Accounts, Financial Sou...</td>\n",
       "    </tr>\n",
       "    <tr>\n",
       "      <th>6</th>\n",
       "      <td>FSNSNO_FSSNO_XDC</td>\n",
       "      <td>Monetary and Financial Accounts, Financial Sou...</td>\n",
       "    </tr>\n",
       "  </tbody>\n",
       "</table>\n",
       "</div>"
      ],
      "text/plain": [
       "                  @value                                              #text\n",
       "0  FS_ODX_CET1_FSCET_XDC  Monetary and Financial Accounts, Financial Sou...\n",
       "1   FS_ODX_ARW_FSCET_XDC  Monetary and Financial Accounts, Financial Sou...\n",
       "2   FS_ODX_ARW_FSKRC_XDC  Monetary and Financial Accounts, Financial Sou...\n",
       "3  FS_ODX_ARW_FSKRTC_XDC  Monetary and Financial Accounts, Financial Sou...\n",
       "4  FS_ODX_CT1_FSKRTC_XDC  Monetary and Financial Accounts, Financial Sou...\n",
       "5   FS_ODX_CRT_FSKRC_XDC  Monetary and Financial Accounts, Financial Sou...\n",
       "6       FSNSNO_FSSNO_XDC  Monetary and Financial Accounts, Financial Sou..."
      ]
     },
     "execution_count": 4,
     "metadata": {},
     "output_type": "execute_result"
    }
   ],
   "source": [
    "FSI_api = IMF_API('FSI')\n",
    "search = 'capital risk Domes'\n",
    "FSI_api.indicator_search(search)"
   ]
  },
  {
   "cell_type": "code",
   "execution_count": 5,
   "metadata": {
    "colab": {
     "base_uri": "https://localhost:8080/",
     "height": 112
    },
    "id": "RsOf2nQW3SHa",
    "outputId": "e4945267-0873-4814-c62a-c3070cb8e5c8"
   },
   "outputs": [
    {
     "data": {
      "text/html": [
       "<div>\n",
       "<style scoped>\n",
       "    .dataframe tbody tr th:only-of-type {\n",
       "        vertical-align: middle;\n",
       "    }\n",
       "\n",
       "    .dataframe tbody tr th {\n",
       "        vertical-align: top;\n",
       "    }\n",
       "\n",
       "    .dataframe thead th {\n",
       "        text-align: right;\n",
       "    }\n",
       "</style>\n",
       "<table border=\"1\" class=\"dataframe\">\n",
       "  <thead>\n",
       "    <tr style=\"text-align: right;\">\n",
       "      <th></th>\n",
       "      <th>FS_ODX_ARW_FSKRTC_XDC</th>\n",
       "      <th>FS_ODX_CT1_FSKRTC_XDC</th>\n",
       "      <th>FS_ODX_CRT_FSKRC_XDC</th>\n",
       "      <th>FS_ODX_ARW_FSKRC_XDC</th>\n",
       "      <th>FSNSNO_FSSNO_XDC</th>\n",
       "      <th>FS_ODX_ARW_FSCET_XDC</th>\n",
       "      <th>FS_ODX_CET1_FSCET_XDC</th>\n",
       "    </tr>\n",
       "    <tr>\n",
       "      <th>country</th>\n",
       "      <th></th>\n",
       "      <th></th>\n",
       "      <th></th>\n",
       "      <th></th>\n",
       "      <th></th>\n",
       "      <th></th>\n",
       "      <th></th>\n",
       "    </tr>\n",
       "  </thead>\n",
       "  <tbody>\n",
       "    <tr>\n",
       "      <th>CA</th>\n",
       "      <td>2005-2020</td>\n",
       "      <td>2005-2020</td>\n",
       "      <td>2005-2020</td>\n",
       "      <td>2005-2020</td>\n",
       "      <td>NaN</td>\n",
       "      <td>NaN</td>\n",
       "      <td>NaN</td>\n",
       "    </tr>\n",
       "    <tr>\n",
       "      <th>GB</th>\n",
       "      <td>2005-2020</td>\n",
       "      <td>2005-2020</td>\n",
       "      <td>2005-2020</td>\n",
       "      <td>2005-2020</td>\n",
       "      <td>2005-2020</td>\n",
       "      <td>2014-2020</td>\n",
       "      <td>2014-2020</td>\n",
       "    </tr>\n",
       "    <tr>\n",
       "      <th>RU</th>\n",
       "      <td>2008-2020</td>\n",
       "      <td>2008-2020</td>\n",
       "      <td>2008-2020</td>\n",
       "      <td>2008-2020</td>\n",
       "      <td>2008-2020</td>\n",
       "      <td>NaN</td>\n",
       "      <td>NaN</td>\n",
       "    </tr>\n",
       "  </tbody>\n",
       "</table>\n",
       "</div>"
      ],
      "text/plain": [
       "        FS_ODX_ARW_FSKRTC_XDC FS_ODX_CT1_FSKRTC_XDC FS_ODX_CRT_FSKRC_XDC  \\\n",
       "country                                                                    \n",
       "CA                  2005-2020             2005-2020            2005-2020   \n",
       "GB                  2005-2020             2005-2020            2005-2020   \n",
       "RU                  2008-2020             2008-2020            2008-2020   \n",
       "\n",
       "        FS_ODX_ARW_FSKRC_XDC FSNSNO_FSSNO_XDC FS_ODX_ARW_FSCET_XDC  \\\n",
       "country                                                              \n",
       "CA                 2005-2020              NaN                  NaN   \n",
       "GB                 2005-2020        2005-2020            2014-2020   \n",
       "RU                 2008-2020        2008-2020                  NaN   \n",
       "\n",
       "        FS_ODX_CET1_FSCET_XDC  \n",
       "country                        \n",
       "CA                        NaN  \n",
       "GB                  2014-2020  \n",
       "RU                        NaN  "
      ]
     },
     "execution_count": 5,
     "metadata": {},
     "output_type": "execute_result"
    }
   ],
   "source": [
    "results = FSI_api.search_data_availability(search, countries, 2000, 2020, 'Q')\n",
    "results"
   ]
  },
  {
   "cell_type": "code",
   "execution_count": 6,
   "metadata": {
    "colab": {
     "base_uri": "https://localhost:8080/",
     "height": 419
    },
    "id": "BedeFgjvOnH0",
    "outputId": "68dc1565-0617-4b14-b853-c06b87c35bed"
   },
   "outputs": [
    {
     "data": {
      "text/html": [
       "<div>\n",
       "<style scoped>\n",
       "    .dataframe tbody tr th:only-of-type {\n",
       "        vertical-align: middle;\n",
       "    }\n",
       "\n",
       "    .dataframe tbody tr th {\n",
       "        vertical-align: top;\n",
       "    }\n",
       "\n",
       "    .dataframe thead th {\n",
       "        text-align: right;\n",
       "    }\n",
       "</style>\n",
       "<table border=\"1\" class=\"dataframe\">\n",
       "  <thead>\n",
       "    <tr style=\"text-align: right;\">\n",
       "      <th></th>\n",
       "      <th>@value</th>\n",
       "      <th>#text</th>\n",
       "    </tr>\n",
       "  </thead>\n",
       "  <tbody>\n",
       "    <tr>\n",
       "      <th>0</th>\n",
       "      <td>EREER_IX</td>\n",
       "      <td>Exchange Rates, Real Effective Exchange Rate b...</td>\n",
       "    </tr>\n",
       "    <tr>\n",
       "      <th>1</th>\n",
       "      <td>EREER_PC_CP_A_PT</td>\n",
       "      <td>Exchange Rates, Real Effective Exchange Rate b...</td>\n",
       "    </tr>\n",
       "    <tr>\n",
       "      <th>2</th>\n",
       "      <td>EREER_ULC_IX</td>\n",
       "      <td>Exchange Rates, Real Effective Exchange Rate b...</td>\n",
       "    </tr>\n",
       "  </tbody>\n",
       "</table>\n",
       "</div>"
      ],
      "text/plain": [
       "             @value                                              #text\n",
       "0          EREER_IX  Exchange Rates, Real Effective Exchange Rate b...\n",
       "1  EREER_PC_CP_A_PT  Exchange Rates, Real Effective Exchange Rate b...\n",
       "2      EREER_ULC_IX  Exchange Rates, Real Effective Exchange Rate b..."
      ]
     },
     "execution_count": 6,
     "metadata": {},
     "output_type": "execute_result"
    }
   ],
   "source": [
    "IFS_api = IMF_API('IFS')\n",
    "search = 'exchange real effective'\n",
    "IFS_api.indicator_search(search)"
   ]
  },
  {
   "cell_type": "code",
   "execution_count": 7,
   "metadata": {
    "colab": {
     "base_uri": "https://localhost:8080/",
     "height": 1000
    },
    "id": "_K_tG6QDI8ui",
    "outputId": "e1c2f4eb-732e-449e-ebd3-9c26aa207ba2"
   },
   "outputs": [
    {
     "data": {
      "text/html": [
       "<div>\n",
       "<style scoped>\n",
       "    .dataframe tbody tr th:only-of-type {\n",
       "        vertical-align: middle;\n",
       "    }\n",
       "\n",
       "    .dataframe tbody tr th {\n",
       "        vertical-align: top;\n",
       "    }\n",
       "\n",
       "    .dataframe thead th {\n",
       "        text-align: right;\n",
       "    }\n",
       "</style>\n",
       "<table border=\"1\" class=\"dataframe\">\n",
       "  <thead>\n",
       "    <tr style=\"text-align: right;\">\n",
       "      <th></th>\n",
       "      <th>EREER_IX</th>\n",
       "      <th>EREER_ULC_IX</th>\n",
       "      <th>EREER_PC_CP_A_PT</th>\n",
       "    </tr>\n",
       "    <tr>\n",
       "      <th>country</th>\n",
       "      <th></th>\n",
       "      <th></th>\n",
       "      <th></th>\n",
       "    </tr>\n",
       "  </thead>\n",
       "  <tbody>\n",
       "    <tr>\n",
       "      <th>CA</th>\n",
       "      <td>2000-2020</td>\n",
       "      <td>2000-2020</td>\n",
       "      <td>NaN</td>\n",
       "    </tr>\n",
       "    <tr>\n",
       "      <th>GB</th>\n",
       "      <td>2000-2020</td>\n",
       "      <td>2000-2020</td>\n",
       "      <td>NaN</td>\n",
       "    </tr>\n",
       "    <tr>\n",
       "      <th>RU</th>\n",
       "      <td>2000-2020</td>\n",
       "      <td>NaN</td>\n",
       "      <td>NaN</td>\n",
       "    </tr>\n",
       "  </tbody>\n",
       "</table>\n",
       "</div>"
      ],
      "text/plain": [
       "          EREER_IX EREER_ULC_IX  EREER_PC_CP_A_PT\n",
       "country                                          \n",
       "CA       2000-2020    2000-2020               NaN\n",
       "GB       2000-2020    2000-2020               NaN\n",
       "RU       2000-2020          NaN               NaN"
      ]
     },
     "execution_count": 7,
     "metadata": {},
     "output_type": "execute_result"
    }
   ],
   "source": [
    "results = IFS_api.search_data_availability(search, countries, 2000, 2020, 'Q')\n",
    "results"
   ]
  },
  {
   "cell_type": "code",
   "execution_count": 8,
   "metadata": {
    "id": "VcITtVrLKQo_"
   },
   "outputs": [],
   "source": [
    "indicators_FSI = ['FSKRC_PT', 'FSKRTC_PT']\n",
    "indicators_IFS = ['EREER_IX']"
   ]
  },
  {
   "cell_type": "code",
   "execution_count": 9,
   "metadata": {},
   "outputs": [
    {
     "name": "stdout",
     "output_type": "stream",
     "text": [
      "Financial, Financial Soundness Indicators, Core Set, Deposit Takers, Capital Adequacy, Regulatory Capital to Risk-Weighted Assets, Percent\n",
      "Financial, Financial Soundness Indicators, Core Set, Deposit Takers, Capital Adequacy, Regulatory Tier 1 Capital to Risk-Weighted Assets, Percent\n",
      "Exchange Rates, Real Effective Exchange Rate based on Consumer Price Index, Index\n"
     ]
    }
   ],
   "source": [
    "for indicator in indicators_FSI:\n",
    "    print(FSI_api.get_indicator_name(indicator))\n",
    "\n",
    "for indicator in indicators_IFS:\n",
    "    print(IFS_api.get_indicator_name(indicator))"
   ]
  },
  {
   "cell_type": "code",
   "execution_count": 22,
   "metadata": {},
   "outputs": [
    {
     "data": {
      "image/png": "[encoded data removed]",
      "text/plain": [
       "<Figure size 640x480 with 1 Axes>"
      ]
     },
     "metadata": {},
     "output_type": "display_data"
    }
   ],
   "source": [
    "uk_FSKRC_PT = FSI_api.get_series(indicator='FSKRC_PT', country='United Kingdom', startYear=2010, endYear=2020, frequency='Q').reset_index(level=1).iloc[:,1]\n",
    "uk_FSKRC_PT.plot()\n",
    "plt.title(uk_FSKRC_PT.name)\n",
    "plt.show()"
   ]
  },
  {
   "cell_type": "code",
   "execution_count": 24,
   "metadata": {
    "id": "Shl9Om0CF5mh"
   },
   "outputs": [],
   "source": [
    "IFS_api = IMF_API('IFS')\n",
    "FSI_api = IMF_API('FSI')\n",
    "\n",
    "data_IFS = IFS_api.get_series(indicators_IFS, countries, 2010, 2020, 'Q')\n",
    "data_FSI = FSI_api.get_series(indicators_FSI, countries, 2010, 2020, 'Q')\n",
    "dataset = pd.merge(data_FSI, data_IFS, how='outer', on=['date', \"country\"]).sort_index()"
   ]
  },
  {
   "cell_type": "code",
   "execution_count": 31,
   "metadata": {
    "colab": {
     "base_uri": "https://localhost:8080/",
     "height": 250
    },
    "id": "TWujKfwPtVbM",
    "outputId": "42b4077c-d1eb-4071-91cf-8244c244a363"
   },
   "outputs": [
    {
     "data": {
      "text/html": [
       "<div>\n",
       "<style scoped>\n",
       "    .dataframe tbody tr th:only-of-type {\n",
       "        vertical-align: middle;\n",
       "    }\n",
       "\n",
       "    .dataframe tbody tr th {\n",
       "        vertical-align: top;\n",
       "    }\n",
       "\n",
       "    .dataframe thead th {\n",
       "        text-align: right;\n",
       "    }\n",
       "</style>\n",
       "<table border=\"1\" class=\"dataframe\">\n",
       "  <thead>\n",
       "    <tr style=\"text-align: right;\">\n",
       "      <th></th>\n",
       "      <th></th>\n",
       "      <th>Financial, Financial Soundness Indicators, Core Set, Deposit Takers, Capital Adequacy, Regulatory Tier 1 Capital to Risk-Weighted Assets, Percent</th>\n",
       "      <th>Financial, Financial Soundness Indicators, Core Set, Deposit Takers, Capital Adequacy, Regulatory Capital to Risk-Weighted Assets, Percent</th>\n",
       "      <th>Exchange Rates, Real Effective Exchange Rate based on Consumer Price Index, Index</th>\n",
       "    </tr>\n",
       "    <tr>\n",
       "      <th>date</th>\n",
       "      <th>country</th>\n",
       "      <th></th>\n",
       "      <th></th>\n",
       "      <th></th>\n",
       "    </tr>\n",
       "  </thead>\n",
       "  <tbody>\n",
       "    <tr>\n",
       "      <th rowspan=\"3\" valign=\"top\">2010-01-01</th>\n",
       "      <th>CA</th>\n",
       "      <td>12.414406</td>\n",
       "      <td>14.816699</td>\n",
       "      <td>98.770285</td>\n",
       "    </tr>\n",
       "    <tr>\n",
       "      <th>GB</th>\n",
       "      <td>NaN</td>\n",
       "      <td>NaN</td>\n",
       "      <td>99.079550</td>\n",
       "    </tr>\n",
       "    <tr>\n",
       "      <th>RU</th>\n",
       "      <td>14.606693</td>\n",
       "      <td>20.483179</td>\n",
       "      <td>98.392140</td>\n",
       "    </tr>\n",
       "    <tr>\n",
       "      <th rowspan=\"2\" valign=\"top\">2010-04-01</th>\n",
       "      <th>CA</th>\n",
       "      <td>12.889560</td>\n",
       "      <td>15.429925</td>\n",
       "      <td>100.948096</td>\n",
       "    </tr>\n",
       "    <tr>\n",
       "      <th>GB</th>\n",
       "      <td>12.351023</td>\n",
       "      <td>15.027093</td>\n",
       "      <td>98.877582</td>\n",
       "    </tr>\n",
       "  </tbody>\n",
       "</table>\n",
       "</div>"
      ],
      "text/plain": [
       "                    Financial, Financial Soundness Indicators, Core Set, Deposit Takers, Capital Adequacy, Regulatory Tier 1 Capital to Risk-Weighted Assets, Percent  \\\n",
       "date       country                                                                                                                                                      \n",
       "2010-01-01 CA                                               12.414406                                                                                                   \n",
       "           GB                                                     NaN                                                                                                   \n",
       "           RU                                               14.606693                                                                                                   \n",
       "2010-04-01 CA                                               12.889560                                                                                                   \n",
       "           GB                                               12.351023                                                                                                   \n",
       "\n",
       "                    Financial, Financial Soundness Indicators, Core Set, Deposit Takers, Capital Adequacy, Regulatory Capital to Risk-Weighted Assets, Percent  \\\n",
       "date       country                                                                                                                                               \n",
       "2010-01-01 CA                                               14.816699                                                                                            \n",
       "           GB                                                     NaN                                                                                            \n",
       "           RU                                               20.483179                                                                                            \n",
       "2010-04-01 CA                                               15.429925                                                                                            \n",
       "           GB                                               15.027093                                                                                            \n",
       "\n",
       "                    Exchange Rates, Real Effective Exchange Rate based on Consumer Price Index, Index  \n",
       "date       country                                                                                     \n",
       "2010-01-01 CA                                               98.770285                                  \n",
       "           GB                                               99.079550                                  \n",
       "           RU                                               98.392140                                  \n",
       "2010-04-01 CA                                              100.948096                                  \n",
       "           GB                                               98.877582                                  "
      ]
     },
     "execution_count": 31,
     "metadata": {},
     "output_type": "execute_result"
    }
   ],
   "source": [
    "dataset.head()"
   ]
  },
  {
   "cell_type": "code",
   "execution_count": 28,
   "metadata": {
    "id": "MYw6yDWfpjJ_"
   },
   "outputs": [],
   "source": [
    "dataset.to_csv('./data/imf_dataset.csv')"
   ]
  }
 ],
 "metadata": {
  "colab": {
   "collapsed_sections": [],
   "name": "IMF data.ipynb",
   "provenance": []
  },
  "hide_input": false,
  "kernelspec": {
   "display_name": "Python 3 (ipykernel)",
   "language": "python",
   "name": "python3"
  },
  "language_info": {
   "codemirror_mode": {
    "name": "ipython",
    "version": 3
   },
   "file_extension": ".py",
   "mimetype": "text/x-python",
   "name": "python",
   "nbconvert_exporter": "python",
   "pygments_lexer": "ipython3",
   "version": "3.11.4"
  },
  "latex_envs": {
   "LaTeX_envs_menu_present": true,
   "autoclose": false,
   "autocomplete": true,
   "bibliofile": "biblio.bib",
   "cite_by": "apalike",
   "current_citInitial": 1,
   "eqLabelWithNumbers": true,
   "eqNumInitial": 1,
   "hotkeys": {
    "equation": "Ctrl-E",
    "itemize": "Ctrl-I"
   },
   "labels_anchors": false,
   "latex_user_defs": false,
   "report_style_numbering": false,
   "user_envs_cfg": false
  },
  "toc": {
   "base_numbering": 1,
   "nav_menu": {},
   "number_sections": true,
   "sideBar": true,
   "skip_h1_title": false,
   "title_cell": "Table of Contents",
   "title_sidebar": "Contents",
   "toc_cell": false,
   "toc_position": {},
   "toc_section_display": true,
   "toc_window_display": false
  },
  "varInspector": {
   "cols": {
    "lenName": 16,
    "lenType": 16,
    "lenVar": 40
   },
   "kernels_config": {
    "python": {
     "delete_cmd_postfix": "",
     "delete_cmd_prefix": "del ",
     "library": "var_list.py",
     "varRefreshCmd": "print(var_dic_list())"
    },
    "r": {
     "delete_cmd_postfix": ") ",
     "delete_cmd_prefix": "rm(",
     "library": "var_list.r",
     "varRefreshCmd": "cat(var_dic_list()) "
    }
   },
   "types_to_exclude": [
    "module",
    "function",
    "builtin_function_or_method",
    "instance",
    "_Feature"
   ],
   "window_display": false
  }
 },
 "nbformat": 4,
 "nbformat_minor": 1
}
