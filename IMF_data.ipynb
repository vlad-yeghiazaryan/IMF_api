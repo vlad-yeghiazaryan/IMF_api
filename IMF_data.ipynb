{
 "cells": [
  {
   "cell_type": "code",
   "execution_count": 1,
   "metadata": {
    "id": "9_fVIJEruC0Z"
   },
   "outputs": [],
   "source": [
    "import pandas as pd\n",
    "import matplotlib.pyplot as plt\n",
    "from IMF_api import IMF_API"
   ]
  },
  {
   "cell_type": "code",
   "execution_count": 2,
   "metadata": {
    "id": "KfhjklOTDXP_"
   },
   "outputs": [],
   "source": [
    "IFS_api = IMF_API('IFS')\n",
    "countries = ['Russian Federation', 'United Kingdom', 'Canada']"
   ]
  },
  {
   "cell_type": "code",
   "execution_count": 3,
   "metadata": {},
   "outputs": [
    {
     "name": "stdout",
     "output_type": "stream",
     "text": [
      "RU\n",
      "GB\n",
      "CA\n"
     ]
    }
   ],
   "source": [
    "for country in countries:\n",
    "    print(IFS_api.get_country_code(country))"
   ]
  },
  {
   "cell_type": "code",
   "execution_count": 3,
   "metadata": {
    "colab": {
     "base_uri": "https://localhost:8080/",
     "height": 457
    },
    "id": "iRKOvI9INeVx",
    "outputId": "4467f709-2c4d-4260-eaf3-3575f39e2d18"
   },
   "outputs": [
    {
     "data": {
      "text/html": [
       "<div>\n",
       "<style scoped>\n",
       "    .dataframe tbody tr th:only-of-type {\n",
       "        vertical-align: middle;\n",
       "    }\n",
       "\n",
       "    .dataframe tbody tr th {\n",
       "        vertical-align: top;\n",
       "    }\n",
       "\n",
       "    .dataframe thead th {\n",
       "        text-align: right;\n",
       "    }\n",
       "</style>\n",
       "<table border=\"1\" class=\"dataframe\">\n",
       "  <thead>\n",
       "    <tr style=\"text-align: right;\">\n",
       "      <th></th>\n",
       "      <th>@value</th>\n",
       "      <th>#text</th>\n",
       "    </tr>\n",
       "  </thead>\n",
       "  <tbody>\n",
       "    <tr>\n",
       "      <th>0</th>\n",
       "      <td>FSKRC_PT</td>\n",
       "      <td>Financial, Financial Soundness Indicators, Cor...</td>\n",
       "    </tr>\n",
       "    <tr>\n",
       "      <th>1</th>\n",
       "      <td>FSDKRC_EUR</td>\n",
       "      <td>Financial, Financial Soundness Indicators, Cor...</td>\n",
       "    </tr>\n",
       "    <tr>\n",
       "      <th>2</th>\n",
       "      <td>FSDKRC_XDC</td>\n",
       "      <td>Financial, Financial Soundness Indicators, Cor...</td>\n",
       "    </tr>\n",
       "    <tr>\n",
       "      <th>3</th>\n",
       "      <td>FSDKRC_USD</td>\n",
       "      <td>Financial, Financial Soundness Indicators, Cor...</td>\n",
       "    </tr>\n",
       "    <tr>\n",
       "      <th>4</th>\n",
       "      <td>FSKRTC_PT</td>\n",
       "      <td>Financial, Financial Soundness Indicators, Cor...</td>\n",
       "    </tr>\n",
       "    <tr>\n",
       "      <th>5</th>\n",
       "      <td>FSDKRTC_EUR</td>\n",
       "      <td>Financial, Financial Soundness Indicators, Cor...</td>\n",
       "    </tr>\n",
       "    <tr>\n",
       "      <th>6</th>\n",
       "      <td>FSDKRTC_XDC</td>\n",
       "      <td>Financial, Financial Soundness Indicators, Cor...</td>\n",
       "    </tr>\n",
       "    <tr>\n",
       "      <th>7</th>\n",
       "      <td>FSDKRTC_USD</td>\n",
       "      <td>Financial, Financial Soundness Indicators, Cor...</td>\n",
       "    </tr>\n",
       "    <tr>\n",
       "      <th>8</th>\n",
       "      <td>FSDSNO_EUR</td>\n",
       "      <td>Financial, Financial Soundness Indicators, Cor...</td>\n",
       "    </tr>\n",
       "    <tr>\n",
       "      <th>9</th>\n",
       "      <td>FSDSNO_XDC</td>\n",
       "      <td>Financial, Financial Soundness Indicators, Cor...</td>\n",
       "    </tr>\n",
       "    <tr>\n",
       "      <th>10</th>\n",
       "      <td>FSDSNO_USD</td>\n",
       "      <td>Financial, Financial Soundness Indicators, Cor...</td>\n",
       "    </tr>\n",
       "    <tr>\n",
       "      <th>11</th>\n",
       "      <td>FSSNO_PT</td>\n",
       "      <td>Financial, Financial Soundness Indicators, Cor...</td>\n",
       "    </tr>\n",
       "  </tbody>\n",
       "</table>\n",
       "</div>"
      ],
      "text/plain": [
       "         @value                                              #text\n",
       "0      FSKRC_PT  Financial, Financial Soundness Indicators, Cor...\n",
       "1    FSDKRC_EUR  Financial, Financial Soundness Indicators, Cor...\n",
       "2    FSDKRC_XDC  Financial, Financial Soundness Indicators, Cor...\n",
       "3    FSDKRC_USD  Financial, Financial Soundness Indicators, Cor...\n",
       "4     FSKRTC_PT  Financial, Financial Soundness Indicators, Cor...\n",
       "5   FSDKRTC_EUR  Financial, Financial Soundness Indicators, Cor...\n",
       "6   FSDKRTC_XDC  Financial, Financial Soundness Indicators, Cor...\n",
       "7   FSDKRTC_USD  Financial, Financial Soundness Indicators, Cor...\n",
       "8    FSDSNO_EUR  Financial, Financial Soundness Indicators, Cor...\n",
       "9    FSDSNO_XDC  Financial, Financial Soundness Indicators, Cor...\n",
       "10   FSDSNO_USD  Financial, Financial Soundness Indicators, Cor...\n",
       "11     FSSNO_PT  Financial, Financial Soundness Indicators, Cor..."
      ]
     },
     "execution_count": 3,
     "metadata": {},
     "output_type": "execute_result"
    }
   ],
   "source": [
    "FSI_api = IMF_API('FSI')\n",
    "search = 'capital risk'\n",
    "FSI_api.indicator_search(search)"
   ]
  },
  {
   "cell_type": "code",
   "execution_count": 5,
   "metadata": {
    "colab": {
     "base_uri": "https://localhost:8080/",
     "height": 112
    },
    "id": "RsOf2nQW3SHa",
    "outputId": "e4945267-0873-4814-c62a-c3070cb8e5c8"
   },
   "outputs": [
    {
     "data": {
      "text/html": [
       "<div>\n",
       "<style scoped>\n",
       "    .dataframe tbody tr th:only-of-type {\n",
       "        vertical-align: middle;\n",
       "    }\n",
       "\n",
       "    .dataframe tbody tr th {\n",
       "        vertical-align: top;\n",
       "    }\n",
       "\n",
       "    .dataframe thead th {\n",
       "        text-align: right;\n",
       "    }\n",
       "</style>\n",
       "<table border=\"1\" class=\"dataframe\">\n",
       "  <thead>\n",
       "    <tr style=\"text-align: right;\">\n",
       "      <th></th>\n",
       "      <th>@value</th>\n",
       "      <th>#text</th>\n",
       "      <th>country</th>\n",
       "      <th>data_availability</th>\n",
       "    </tr>\n",
       "  </thead>\n",
       "  <tbody>\n",
       "    <tr>\n",
       "      <th>0</th>\n",
       "      <td>FSKRC_PT</td>\n",
       "      <td>Financial, Financial Soundness Indicators, Cor...</td>\n",
       "      <td>Russian Federation</td>\n",
       "      <td>2008-2020</td>\n",
       "    </tr>\n",
       "    <tr>\n",
       "      <th>1</th>\n",
       "      <td>FSKRC_PT</td>\n",
       "      <td>Financial, Financial Soundness Indicators, Cor...</td>\n",
       "      <td>United Kingdom</td>\n",
       "      <td>2008-2020</td>\n",
       "    </tr>\n",
       "    <tr>\n",
       "      <th>2</th>\n",
       "      <td>FSKRC_PT</td>\n",
       "      <td>Financial, Financial Soundness Indicators, Cor...</td>\n",
       "      <td>Canada</td>\n",
       "      <td>2005-2020</td>\n",
       "    </tr>\n",
       "    <tr>\n",
       "      <th>6</th>\n",
       "      <td>FSDKRC_XDC</td>\n",
       "      <td>Financial, Financial Soundness Indicators, Cor...</td>\n",
       "      <td>Russian Federation</td>\n",
       "      <td>2008-2020</td>\n",
       "    </tr>\n",
       "    <tr>\n",
       "      <th>7</th>\n",
       "      <td>FSDKRC_XDC</td>\n",
       "      <td>Financial, Financial Soundness Indicators, Cor...</td>\n",
       "      <td>United Kingdom</td>\n",
       "      <td>2008-2020</td>\n",
       "    </tr>\n",
       "    <tr>\n",
       "      <th>8</th>\n",
       "      <td>FSDKRC_XDC</td>\n",
       "      <td>Financial, Financial Soundness Indicators, Cor...</td>\n",
       "      <td>Canada</td>\n",
       "      <td>2005-2020</td>\n",
       "    </tr>\n",
       "    <tr>\n",
       "      <th>12</th>\n",
       "      <td>FSKRTC_PT</td>\n",
       "      <td>Financial, Financial Soundness Indicators, Cor...</td>\n",
       "      <td>Russian Federation</td>\n",
       "      <td>2008-2020</td>\n",
       "    </tr>\n",
       "    <tr>\n",
       "      <th>13</th>\n",
       "      <td>FSKRTC_PT</td>\n",
       "      <td>Financial, Financial Soundness Indicators, Cor...</td>\n",
       "      <td>United Kingdom</td>\n",
       "      <td>2008-2020</td>\n",
       "    </tr>\n",
       "    <tr>\n",
       "      <th>14</th>\n",
       "      <td>FSKRTC_PT</td>\n",
       "      <td>Financial, Financial Soundness Indicators, Cor...</td>\n",
       "      <td>Canada</td>\n",
       "      <td>2005-2020</td>\n",
       "    </tr>\n",
       "    <tr>\n",
       "      <th>18</th>\n",
       "      <td>FSDKRTC_XDC</td>\n",
       "      <td>Financial, Financial Soundness Indicators, Cor...</td>\n",
       "      <td>Russian Federation</td>\n",
       "      <td>2008-2020</td>\n",
       "    </tr>\n",
       "    <tr>\n",
       "      <th>19</th>\n",
       "      <td>FSDKRTC_XDC</td>\n",
       "      <td>Financial, Financial Soundness Indicators, Cor...</td>\n",
       "      <td>United Kingdom</td>\n",
       "      <td>2008-2020</td>\n",
       "    </tr>\n",
       "    <tr>\n",
       "      <th>20</th>\n",
       "      <td>FSDKRTC_XDC</td>\n",
       "      <td>Financial, Financial Soundness Indicators, Cor...</td>\n",
       "      <td>Canada</td>\n",
       "      <td>2005-2020</td>\n",
       "    </tr>\n",
       "    <tr>\n",
       "      <th>27</th>\n",
       "      <td>FSDSNO_XDC</td>\n",
       "      <td>Financial, Financial Soundness Indicators, Cor...</td>\n",
       "      <td>Russian Federation</td>\n",
       "      <td>2008-2020</td>\n",
       "    </tr>\n",
       "    <tr>\n",
       "      <th>28</th>\n",
       "      <td>FSDSNO_XDC</td>\n",
       "      <td>Financial, Financial Soundness Indicators, Cor...</td>\n",
       "      <td>United Kingdom</td>\n",
       "      <td>2008-2020</td>\n",
       "    </tr>\n",
       "    <tr>\n",
       "      <th>33</th>\n",
       "      <td>FSSNO_PT</td>\n",
       "      <td>Financial, Financial Soundness Indicators, Cor...</td>\n",
       "      <td>Russian Federation</td>\n",
       "      <td>2008-2020</td>\n",
       "    </tr>\n",
       "    <tr>\n",
       "      <th>34</th>\n",
       "      <td>FSSNO_PT</td>\n",
       "      <td>Financial, Financial Soundness Indicators, Cor...</td>\n",
       "      <td>United Kingdom</td>\n",
       "      <td>2008-2020</td>\n",
       "    </tr>\n",
       "  </tbody>\n",
       "</table>\n",
       "</div>"
      ],
      "text/plain": [
       "         @value                                              #text  \\\n",
       "0      FSKRC_PT  Financial, Financial Soundness Indicators, Cor...   \n",
       "1      FSKRC_PT  Financial, Financial Soundness Indicators, Cor...   \n",
       "2      FSKRC_PT  Financial, Financial Soundness Indicators, Cor...   \n",
       "6    FSDKRC_XDC  Financial, Financial Soundness Indicators, Cor...   \n",
       "7    FSDKRC_XDC  Financial, Financial Soundness Indicators, Cor...   \n",
       "8    FSDKRC_XDC  Financial, Financial Soundness Indicators, Cor...   \n",
       "12    FSKRTC_PT  Financial, Financial Soundness Indicators, Cor...   \n",
       "13    FSKRTC_PT  Financial, Financial Soundness Indicators, Cor...   \n",
       "14    FSKRTC_PT  Financial, Financial Soundness Indicators, Cor...   \n",
       "18  FSDKRTC_XDC  Financial, Financial Soundness Indicators, Cor...   \n",
       "19  FSDKRTC_XDC  Financial, Financial Soundness Indicators, Cor...   \n",
       "20  FSDKRTC_XDC  Financial, Financial Soundness Indicators, Cor...   \n",
       "27   FSDSNO_XDC  Financial, Financial Soundness Indicators, Cor...   \n",
       "28   FSDSNO_XDC  Financial, Financial Soundness Indicators, Cor...   \n",
       "33     FSSNO_PT  Financial, Financial Soundness Indicators, Cor...   \n",
       "34     FSSNO_PT  Financial, Financial Soundness Indicators, Cor...   \n",
       "\n",
       "               country data_availability  \n",
       "0   Russian Federation         2008-2020  \n",
       "1       United Kingdom         2008-2020  \n",
       "2               Canada         2005-2020  \n",
       "6   Russian Federation         2008-2020  \n",
       "7       United Kingdom         2008-2020  \n",
       "8               Canada         2005-2020  \n",
       "12  Russian Federation         2008-2020  \n",
       "13      United Kingdom         2008-2020  \n",
       "14              Canada         2005-2020  \n",
       "18  Russian Federation         2008-2020  \n",
       "19      United Kingdom         2008-2020  \n",
       "20              Canada         2005-2020  \n",
       "27  Russian Federation         2008-2020  \n",
       "28      United Kingdom         2008-2020  \n",
       "33  Russian Federation         2008-2020  \n",
       "34      United Kingdom         2008-2020  "
      ]
     },
     "execution_count": 5,
     "metadata": {},
     "output_type": "execute_result"
    }
   ],
   "source": [
    "results = FSI_api.search_data_availability(search, countries, 2000, 2020, 'Q', sleep_time=1.5)\n",
    "results[results['data_availability'] != 'N/A']"
   ]
  },
  {
   "cell_type": "code",
   "execution_count": 6,
   "metadata": {
    "colab": {
     "base_uri": "https://localhost:8080/",
     "height": 419
    },
    "id": "BedeFgjvOnH0",
    "outputId": "68dc1565-0617-4b14-b853-c06b87c35bed"
   },
   "outputs": [
    {
     "data": {
      "text/html": [
       "<div>\n",
       "<style scoped>\n",
       "    .dataframe tbody tr th:only-of-type {\n",
       "        vertical-align: middle;\n",
       "    }\n",
       "\n",
       "    .dataframe tbody tr th {\n",
       "        vertical-align: top;\n",
       "    }\n",
       "\n",
       "    .dataframe thead th {\n",
       "        text-align: right;\n",
       "    }\n",
       "</style>\n",
       "<table border=\"1\" class=\"dataframe\">\n",
       "  <thead>\n",
       "    <tr style=\"text-align: right;\">\n",
       "      <th></th>\n",
       "      <th>@value</th>\n",
       "      <th>#text</th>\n",
       "    </tr>\n",
       "  </thead>\n",
       "  <tbody>\n",
       "    <tr>\n",
       "      <th>0</th>\n",
       "      <td>EREER_IX</td>\n",
       "      <td>Exchange Rates, Real Effective Exchange Rate b...</td>\n",
       "    </tr>\n",
       "    <tr>\n",
       "      <th>1</th>\n",
       "      <td>EREER_PC_CP_A_PT</td>\n",
       "      <td>Exchange Rates, Real Effective Exchange Rate b...</td>\n",
       "    </tr>\n",
       "    <tr>\n",
       "      <th>2</th>\n",
       "      <td>EREER_ULC_IX</td>\n",
       "      <td>Exchange Rates, Real Effective Exchange Rate b...</td>\n",
       "    </tr>\n",
       "  </tbody>\n",
       "</table>\n",
       "</div>"
      ],
      "text/plain": [
       "             @value                                              #text\n",
       "0          EREER_IX  Exchange Rates, Real Effective Exchange Rate b...\n",
       "1  EREER_PC_CP_A_PT  Exchange Rates, Real Effective Exchange Rate b...\n",
       "2      EREER_ULC_IX  Exchange Rates, Real Effective Exchange Rate b..."
      ]
     },
     "execution_count": 6,
     "metadata": {},
     "output_type": "execute_result"
    }
   ],
   "source": [
    "IFS_api = IMF_API('IFS')\n",
    "search = 'exchange real effective'\n",
    "IFS_api.indicator_search(search)"
   ]
  },
  {
   "cell_type": "code",
   "execution_count": 7,
   "metadata": {
    "colab": {
     "base_uri": "https://localhost:8080/",
     "height": 1000
    },
    "id": "_K_tG6QDI8ui",
    "outputId": "e1c2f4eb-732e-449e-ebd3-9c26aa207ba2"
   },
   "outputs": [
    {
     "data": {
      "text/html": [
       "<div>\n",
       "<style scoped>\n",
       "    .dataframe tbody tr th:only-of-type {\n",
       "        vertical-align: middle;\n",
       "    }\n",
       "\n",
       "    .dataframe tbody tr th {\n",
       "        vertical-align: top;\n",
       "    }\n",
       "\n",
       "    .dataframe thead th {\n",
       "        text-align: right;\n",
       "    }\n",
       "</style>\n",
       "<table border=\"1\" class=\"dataframe\">\n",
       "  <thead>\n",
       "    <tr style=\"text-align: right;\">\n",
       "      <th></th>\n",
       "      <th>@value</th>\n",
       "      <th>#text</th>\n",
       "      <th>country</th>\n",
       "      <th>data_availability</th>\n",
       "    </tr>\n",
       "  </thead>\n",
       "  <tbody>\n",
       "    <tr>\n",
       "      <th>0</th>\n",
       "      <td>EREER_IX</td>\n",
       "      <td>Exchange Rates, Real Effective Exchange Rate b...</td>\n",
       "      <td>Russian Federation</td>\n",
       "      <td>2000-2020</td>\n",
       "    </tr>\n",
       "    <tr>\n",
       "      <th>1</th>\n",
       "      <td>EREER_IX</td>\n",
       "      <td>Exchange Rates, Real Effective Exchange Rate b...</td>\n",
       "      <td>United Kingdom</td>\n",
       "      <td>2000-2020</td>\n",
       "    </tr>\n",
       "    <tr>\n",
       "      <th>2</th>\n",
       "      <td>EREER_IX</td>\n",
       "      <td>Exchange Rates, Real Effective Exchange Rate b...</td>\n",
       "      <td>Canada</td>\n",
       "      <td>2000-2020</td>\n",
       "    </tr>\n",
       "    <tr>\n",
       "      <th>7</th>\n",
       "      <td>EREER_ULC_IX</td>\n",
       "      <td>Exchange Rates, Real Effective Exchange Rate b...</td>\n",
       "      <td>United Kingdom</td>\n",
       "      <td>2000-2020</td>\n",
       "    </tr>\n",
       "    <tr>\n",
       "      <th>8</th>\n",
       "      <td>EREER_ULC_IX</td>\n",
       "      <td>Exchange Rates, Real Effective Exchange Rate b...</td>\n",
       "      <td>Canada</td>\n",
       "      <td>2000-2020</td>\n",
       "    </tr>\n",
       "  </tbody>\n",
       "</table>\n",
       "</div>"
      ],
      "text/plain": [
       "         @value                                              #text  \\\n",
       "0      EREER_IX  Exchange Rates, Real Effective Exchange Rate b...   \n",
       "1      EREER_IX  Exchange Rates, Real Effective Exchange Rate b...   \n",
       "2      EREER_IX  Exchange Rates, Real Effective Exchange Rate b...   \n",
       "7  EREER_ULC_IX  Exchange Rates, Real Effective Exchange Rate b...   \n",
       "8  EREER_ULC_IX  Exchange Rates, Real Effective Exchange Rate b...   \n",
       "\n",
       "              country data_availability  \n",
       "0  Russian Federation         2000-2020  \n",
       "1      United Kingdom         2000-2020  \n",
       "2              Canada         2000-2020  \n",
       "7      United Kingdom         2000-2020  \n",
       "8              Canada         2000-2020  "
      ]
     },
     "execution_count": 7,
     "metadata": {},
     "output_type": "execute_result"
    }
   ],
   "source": [
    "results = IFS_api.search_data_availability(search, countries, 2000, 2020, 'Q', sleep_time=1.5)\n",
    "results[results['data_availability'] != 'N/A']"
   ]
  },
  {
   "cell_type": "code",
   "execution_count": 4,
   "metadata": {
    "id": "VcITtVrLKQo_"
   },
   "outputs": [],
   "source": [
    "indicators_FSI = ['FSKRC_PT', 'FSKRTC_PT']\n",
    "indicators_IFS = ['EREER_IX']"
   ]
  },
  {
   "cell_type": "code",
   "execution_count": 6,
   "metadata": {},
   "outputs": [
    {
     "name": "stdout",
     "output_type": "stream",
     "text": [
      "Financial, Financial Soundness Indicators, Core Set, Deposit Takers, Capital Adequacy, Regulatory Capital to Risk-Weighted Assets, Percent\n",
      "Financial, Financial Soundness Indicators, Core Set, Deposit Takers, Capital Adequacy, Regulatory Tier 1 Capital to Risk-Weighted Assets, Percent\n",
      "Exchange Rates, Real Effective Exchange Rate based on Consumer Price Index, Index\n"
     ]
    }
   ],
   "source": [
    "for indicator in indicators_FSI:\n",
    "    print(FSI_api.get_indicator_name(indicator))\n",
    "\n",
    "for indicator in indicators_IFS:\n",
    "    print(IFS_api.get_indicator_name(indicator))"
   ]
  },
  {
   "cell_type": "code",
   "execution_count": 29,
   "metadata": {},
   "outputs": [
    {
     "data": {
      "image/png": "[encoded data removed]",
      "text/plain": [
       "<Figure size 432x288 with 1 Axes>"
      ]
     },
     "metadata": {
      "needs_background": "light"
     },
     "output_type": "display_data"
    }
   ],
   "source": [
    "uk_FSKRC_PT = FSI_api.get_series(indicator='FSKRC_PT', country='United Kingdom', startYear=2010, endYear=2020, frequency='Q', sleep_time=3)\n",
    "uk_FSKRC_PT.plot()\n",
    "plt.title(uk_FSKRC_PT.name)\n",
    "plt.show()"
   ]
  },
  {
   "cell_type": "code",
   "execution_count": 26,
   "metadata": {
    "id": "Shl9Om0CF5mh"
   },
   "outputs": [],
   "source": [
    "IFS_api = IMF_API('IFS')\n",
    "FSI_api = IMF_API('FSI')\n",
    "\n",
    "data_IFS = IFS_api.get_indicators(indicators_IFS, countries, 2010, 2020, 'Q', sleep_time=2)\n",
    "data_FSI = FSI_api.get_indicators(indicators_FSI, countries, 2010, 2020, 'Q', sleep_time=2)\n",
    "dataset = pd.merge(data_FSI, data_IFS, how='outer', on=['Date', \"country\"]).sort_index()"
   ]
  },
  {
   "cell_type": "code",
   "execution_count": 27,
   "metadata": {
    "colab": {
     "base_uri": "https://localhost:8080/",
     "height": 250
    },
    "id": "TWujKfwPtVbM",
    "outputId": "42b4077c-d1eb-4071-91cf-8244c244a363"
   },
   "outputs": [
    {
     "data": {
      "text/html": [
       "<div>\n",
       "<style scoped>\n",
       "    .dataframe tbody tr th:only-of-type {\n",
       "        vertical-align: middle;\n",
       "    }\n",
       "\n",
       "    .dataframe tbody tr th {\n",
       "        vertical-align: top;\n",
       "    }\n",
       "\n",
       "    .dataframe thead th {\n",
       "        text-align: right;\n",
       "    }\n",
       "</style>\n",
       "<table border=\"1\" class=\"dataframe\">\n",
       "  <thead>\n",
       "    <tr style=\"text-align: right;\">\n",
       "      <th></th>\n",
       "      <th>Regulatory Capital to Risk-Weighted Assets, Percent</th>\n",
       "      <th>Regulatory Tier 1 Capital to Risk-Weighted Assets, Percent</th>\n",
       "      <th>country</th>\n",
       "      <th>Real Effective Exchange Rate based on Consumer Price Index, Index</th>\n",
       "    </tr>\n",
       "    <tr>\n",
       "      <th>Date</th>\n",
       "      <th></th>\n",
       "      <th></th>\n",
       "      <th></th>\n",
       "      <th></th>\n",
       "    </tr>\n",
       "  </thead>\n",
       "  <tbody>\n",
       "    <tr>\n",
       "      <th>2010-01-01</th>\n",
       "      <td>20.483177</td>\n",
       "      <td>14.606693</td>\n",
       "      <td>Russian Federation</td>\n",
       "      <td>98.812598</td>\n",
       "    </tr>\n",
       "    <tr>\n",
       "      <th>2010-01-01</th>\n",
       "      <td>NaN</td>\n",
       "      <td>NaN</td>\n",
       "      <td>United Kingdom</td>\n",
       "      <td>99.060989</td>\n",
       "    </tr>\n",
       "    <tr>\n",
       "      <th>2010-01-01</th>\n",
       "      <td>14.816699</td>\n",
       "      <td>12.414406</td>\n",
       "      <td>Canada</td>\n",
       "      <td>98.761962</td>\n",
       "    </tr>\n",
       "    <tr>\n",
       "      <th>2010-04-01</th>\n",
       "      <td>18.851378</td>\n",
       "      <td>14.072243</td>\n",
       "      <td>Russian Federation</td>\n",
       "      <td>102.486504</td>\n",
       "    </tr>\n",
       "    <tr>\n",
       "      <th>2010-04-01</th>\n",
       "      <td>15.027093</td>\n",
       "      <td>12.351023</td>\n",
       "      <td>United Kingdom</td>\n",
       "      <td>98.863391</td>\n",
       "    </tr>\n",
       "    <tr>\n",
       "      <th>...</th>\n",
       "      <td>...</td>\n",
       "      <td>...</td>\n",
       "      <td>...</td>\n",
       "      <td>...</td>\n",
       "    </tr>\n",
       "    <tr>\n",
       "      <th>2020-07-01</th>\n",
       "      <td>15.702111</td>\n",
       "      <td>13.457219</td>\n",
       "      <td>Canada</td>\n",
       "      <td>80.917568</td>\n",
       "    </tr>\n",
       "    <tr>\n",
       "      <th>2020-07-01</th>\n",
       "      <td>12.735491</td>\n",
       "      <td>10.371338</td>\n",
       "      <td>Russian Federation</td>\n",
       "      <td>78.200748</td>\n",
       "    </tr>\n",
       "    <tr>\n",
       "      <th>2020-10-01</th>\n",
       "      <td>21.568759</td>\n",
       "      <td>18.489046</td>\n",
       "      <td>United Kingdom</td>\n",
       "      <td>98.277274</td>\n",
       "    </tr>\n",
       "    <tr>\n",
       "      <th>2020-10-01</th>\n",
       "      <td>16.095553</td>\n",
       "      <td>13.933574</td>\n",
       "      <td>Canada</td>\n",
       "      <td>81.936053</td>\n",
       "    </tr>\n",
       "    <tr>\n",
       "      <th>2020-10-01</th>\n",
       "      <td>12.467320</td>\n",
       "      <td>9.703171</td>\n",
       "      <td>Russian Federation</td>\n",
       "      <td>74.794647</td>\n",
       "    </tr>\n",
       "  </tbody>\n",
       "</table>\n",
       "<p>132 rows × 4 columns</p>\n",
       "</div>"
      ],
      "text/plain": [
       "             Regulatory Capital to Risk-Weighted Assets, Percent  \\\n",
       "Date                                                               \n",
       "2010-01-01                                          20.483177      \n",
       "2010-01-01                                                NaN      \n",
       "2010-01-01                                          14.816699      \n",
       "2010-04-01                                          18.851378      \n",
       "2010-04-01                                          15.027093      \n",
       "...                                                       ...      \n",
       "2020-07-01                                          15.702111      \n",
       "2020-07-01                                          12.735491      \n",
       "2020-10-01                                          21.568759      \n",
       "2020-10-01                                          16.095553      \n",
       "2020-10-01                                          12.467320      \n",
       "\n",
       "             Regulatory Tier 1 Capital to Risk-Weighted Assets, Percent  \\\n",
       "Date                                                                      \n",
       "2010-01-01                                          14.606693             \n",
       "2010-01-01                                                NaN             \n",
       "2010-01-01                                          12.414406             \n",
       "2010-04-01                                          14.072243             \n",
       "2010-04-01                                          12.351023             \n",
       "...                                                       ...             \n",
       "2020-07-01                                          13.457219             \n",
       "2020-07-01                                          10.371338             \n",
       "2020-10-01                                          18.489046             \n",
       "2020-10-01                                          13.933574             \n",
       "2020-10-01                                           9.703171             \n",
       "\n",
       "                       country  \\\n",
       "Date                             \n",
       "2010-01-01  Russian Federation   \n",
       "2010-01-01      United Kingdom   \n",
       "2010-01-01              Canada   \n",
       "2010-04-01  Russian Federation   \n",
       "2010-04-01      United Kingdom   \n",
       "...                        ...   \n",
       "2020-07-01              Canada   \n",
       "2020-07-01  Russian Federation   \n",
       "2020-10-01      United Kingdom   \n",
       "2020-10-01              Canada   \n",
       "2020-10-01  Russian Federation   \n",
       "\n",
       "             Real Effective Exchange Rate based on Consumer Price Index, Index  \n",
       "Date                                                                            \n",
       "2010-01-01                                          98.812598                   \n",
       "2010-01-01                                          99.060989                   \n",
       "2010-01-01                                          98.761962                   \n",
       "2010-04-01                                         102.486504                   \n",
       "2010-04-01                                          98.863391                   \n",
       "...                                                       ...                   \n",
       "2020-07-01                                          80.917568                   \n",
       "2020-07-01                                          78.200748                   \n",
       "2020-10-01                                          98.277274                   \n",
       "2020-10-01                                          81.936053                   \n",
       "2020-10-01                                          74.794647                   \n",
       "\n",
       "[132 rows x 4 columns]"
      ]
     },
     "execution_count": 27,
     "metadata": {},
     "output_type": "execute_result"
    }
   ],
   "source": [
    "dataset"
   ]
  },
  {
   "cell_type": "code",
   "execution_count": 28,
   "metadata": {
    "id": "MYw6yDWfpjJ_"
   },
   "outputs": [],
   "source": [
    "dataset.to_csv('./data/imf_dataset.csv')"
   ]
  },
  {
   "cell_type": "code",
   "execution_count": null,
   "metadata": {},
   "outputs": [],
   "source": []
  }
 ],
 "metadata": {
  "colab": {
   "collapsed_sections": [],
   "name": "IMF data.ipynb",
   "provenance": []
  },
  "hide_input": false,
  "kernelspec": {
   "display_name": "Python 3",
   "language": "python",
   "name": "python3"
  },
  "language_info": {
   "codemirror_mode": {
    "name": "ipython",
    "version": 3
   },
   "file_extension": ".py",
   "mimetype": "text/x-python",
   "name": "python",
   "nbconvert_exporter": "python",
   "pygments_lexer": "ipython3",
   "version": "3.8.2"
  },
  "latex_envs": {
   "LaTeX_envs_menu_present": true,
   "autoclose": false,
   "autocomplete": true,
   "bibliofile": "biblio.bib",
   "cite_by": "apalike",
   "current_citInitial": 1,
   "eqLabelWithNumbers": true,
   "eqNumInitial": 1,
   "hotkeys": {
    "equation": "Ctrl-E",
    "itemize": "Ctrl-I"
   },
   "labels_anchors": false,
   "latex_user_defs": false,
   "report_style_numbering": false,
   "user_envs_cfg": false
  },
  "toc": {
   "base_numbering": 1,
   "nav_menu": {},
   "number_sections": true,
   "sideBar": true,
   "skip_h1_title": false,
   "title_cell": "Table of Contents",
   "title_sidebar": "Contents",
   "toc_cell": false,
   "toc_position": {},
   "toc_section_display": true,
   "toc_window_display": false
  },
  "varInspector": {
   "cols": {
    "lenName": 16,
    "lenType": 16,
    "lenVar": 40
   },
   "kernels_config": {
    "python": {
     "delete_cmd_postfix": "",
     "delete_cmd_prefix": "del ",
     "library": "var_list.py",
     "varRefreshCmd": "print(var_dic_list())"
    },
    "r": {
     "delete_cmd_postfix": ") ",
     "delete_cmd_prefix": "rm(",
     "library": "var_list.r",
     "varRefreshCmd": "cat(var_dic_list()) "
    }
   },
   "types_to_exclude": [
    "module",
    "function",
    "builtin_function_or_method",
    "instance",
    "_Feature"
   ],
   "window_display": false
  }
 },
 "nbformat": 4,
 "nbformat_minor": 1
}
